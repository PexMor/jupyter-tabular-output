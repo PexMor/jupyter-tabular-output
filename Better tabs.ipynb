{
 "cells": [
  {
   "cell_type": "markdown",
   "metadata": {},
   "source": [
    "<a href=\"https://colab.research.google.com/github/PexMor/jupyter-tabular-output/blob/main/Better+tabs.ipynb\" target=\"_parent\"><img src=\"https://colab.research.google.com/assets/colab-badge.svg\" alt=\"Open In Colab\"/></a>"
   ]
  },
  {
   "cell_type": "markdown",
   "metadata": {},
   "source": [
    "# Better tables in Jupyter notebooks\n",
    "\n",
    "Purpose of this notebook is to show an option to get beyond the `print` inside Jyputer when producing the tabular content. As the Jupyter is embedded inside HTML and it offers the capability to use HTML for formating among other options then making more visually appealing tables is great option for more legible data formating."
   ]
  },
  {
   "cell_type": "markdown",
   "metadata": {},
   "source": [
    "## The code\n",
    "\n",
    "Let's start with some code hygiene, capture versions and environment so anyone reading this has better starting position."
   ]
  },
  {
   "cell_type": "code",
   "execution_count": 1,
   "metadata": {},
   "outputs": [],
   "source": [
    "!pip -q install watermark tabulate"
   ]
  },
  {
   "cell_type": "code",
   "execution_count": 2,
   "metadata": {},
   "outputs": [],
   "source": [
    "import watermark\n",
    "\n",
    "%load_ext watermark"
   ]
  },
  {
   "cell_type": "markdown",
   "metadata": {},
   "source": [
    "Record the versions into the notebook output"
   ]
  },
  {
   "cell_type": "code",
   "execution_count": 3,
   "metadata": {},
   "outputs": [
    {
     "name": "stdout",
     "output_type": "stream",
     "text": [
      "Python implementation: CPython\n",
      "Python version       : 3.9.6\n",
      "IPython version      : 7.25.0\n",
      "\n",
      "Compiler    : Clang 12.0.5 (clang-1205.0.22.9)\n",
      "OS          : Darwin\n",
      "Release     : 20.6.0\n",
      "Machine     : x86_64\n",
      "Processor   : i386\n",
      "CPU cores   : 8\n",
      "Architecture: 64bit\n",
      "\n",
      "watermark: 2.2.0\n",
      "\n"
     ]
    }
   ],
   "source": [
    "%watermark -i -n -v -m -iv"
   ]
  },
  {
   "cell_type": "markdown",
   "metadata": {},
   "source": [
    "The core of this notebook is the following class `TabOut` which does the table construction over time (i.e. in loop)."
   ]
  },
  {
   "cell_type": "code",
   "execution_count": 4,
   "metadata": {},
   "outputs": [],
   "source": [
    "from IPython import display\n",
    "import tabulate\n",
    "import datetime\n",
    "class TabOut:\n",
    "    def __init__(self, headers, show_rel_ts = True, show_abs_ts = True):\n",
    "        self.headers = headers\n",
    "        self.show_rel_ts = show_rel_ts\n",
    "        self.show_abs_ts = show_abs_ts\n",
    "        if self.show_rel_ts:\n",
    "            self.headers.append(\"Rel.time[s]\")\n",
    "        if self.show_abs_ts:\n",
    "            self.headers.append(\"Abs.time[s]\")\n",
    "        self.data = []\n",
    "        self.last_ts = self.base_ts = datetime.datetime.now()\n",
    "        \n",
    "    def display(self, row):\n",
    "        loc_row = row.copy()\n",
    "        now_ts = datetime.datetime.now()\n",
    "        dur_rel = (now_ts - self.last_ts).total_seconds()\n",
    "        dur_abs = (now_ts - self.base_ts).total_seconds()\n",
    "        self.last_ts = now_ts\n",
    "        if self.show_rel_ts:\n",
    "            loc_row.append(dur_rel)\n",
    "        if self.show_abs_ts:\n",
    "            loc_row.append(dur_abs)\n",
    "        self.data.append(loc_row)\n",
    "        display.clear_output(wait=True)\n",
    "        display.display(display.HTML(tabulate.tabulate(self.data, tablefmt='html',headers=self.headers)))\n",
    "    \n",
    "    def clear(self):\n",
    "        self.data = []\n",
    "        \n",
    "    def done(self):\n",
    "        display.clear_output(wait=True)\n",
    "        html = tabulate.tabulate(self.data, tablefmt='html',headers=self.headers)\n",
    "        html += \"<h2>Done!</h2>\"\n",
    "        display.display(display.HTML(html))"
   ]
  },
  {
   "cell_type": "markdown",
   "metadata": {},
   "source": [
    "## Demo time"
   ]
  },
  {
   "cell_type": "code",
   "execution_count": 5,
   "metadata": {},
   "outputs": [
    {
     "data": {
      "text/html": [
       "<table>\n",
       "<thead>\n",
       "<tr><th>Planet  </th><th style=\"text-align: right;\">  R (km)</th><th style=\"text-align: right;\">  mass (x 10^29 kg)</th><th style=\"text-align: right;\">  Rel.time[s]</th><th style=\"text-align: right;\">  Abs.time[s]</th></tr>\n",
       "</thead>\n",
       "<tbody>\n",
       "<tr><td>Sun     </td><td style=\"text-align: right;\">  696000</td><td style=\"text-align: right;\">         1.9891e+09</td><td style=\"text-align: right;\">      6.3e-05</td><td style=\"text-align: right;\">      6.3e-05</td></tr>\n",
       "<tr><td>Earth   </td><td style=\"text-align: right;\">    6371</td><td style=\"text-align: right;\">      5973.6       </td><td style=\"text-align: right;\">      3.01531</td><td style=\"text-align: right;\">      3.01537</td></tr>\n",
       "<tr><td>Moon    </td><td style=\"text-align: right;\">    1737</td><td style=\"text-align: right;\">        73.5       </td><td style=\"text-align: right;\">      3.00775</td><td style=\"text-align: right;\">      6.02312</td></tr>\n",
       "<tr><td>Mars    </td><td style=\"text-align: right;\">    3390</td><td style=\"text-align: right;\">       641.85      </td><td style=\"text-align: right;\">      3.00799</td><td style=\"text-align: right;\">      9.03111</td></tr>\n",
       "</tbody>\n",
       "</table><h2>Done!</h2>"
      ],
      "text/plain": [
       "<IPython.core.display.HTML object>"
      ]
     },
     "metadata": {},
     "output_type": "display_data"
    }
   ],
   "source": [
    "import time\n",
    "table = [[\"Sun\",696000,1989100000],\n",
    "         [\"Earth\",6371,5973.6],\n",
    "         [\"Moon\",1737,73.5],\n",
    "         [\"Mars\",3390,641.85]]\n",
    "ota = []\n",
    "out = TabOut(headers=[\"Planet\",\"R (km)\", \"mass (x 10^29 kg)\"])\n",
    "for no in range(0,len(table)):\n",
    "    out.display(table[no])\n",
    "    time.sleep(3)\n",
    "out.done()"
   ]
  }
 ],
 "metadata": {
  "kernelspec": {
   "display_name": "Python 3 (ipykernel)",
   "language": "python",
   "name": "python3"
  },
  "language_info": {
   "codemirror_mode": {
    "name": "ipython",
    "version": 3
   },
   "file_extension": ".py",
   "mimetype": "text/x-python",
   "name": "python",
   "nbconvert_exporter": "python",
   "pygments_lexer": "ipython3",
   "version": "3.9.6"
  }
 },
 "nbformat": 4,
 "nbformat_minor": 4
}
