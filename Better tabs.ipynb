{
 "cells": [
  {
   "cell_type": "code",
   "execution_count": 1,
   "metadata": {},
   "outputs": [],
   "source": [
    "import watermark\n",
    "\n",
    "%load_ext watermark"
   ]
  },
  {
   "cell_type": "code",
   "execution_count": 2,
   "metadata": {},
   "outputs": [],
   "source": [
    "%watermark -i -n -v -m -iv"
   ]
  },
  {
   "cell_type": "code",
   "execution_count": 3,
   "metadata": {},
   "outputs": [],
   "source": [
    "from IPython import display\n",
    "import tabulate\n",
    "import datetime\n",
    "class TabOut:\n",
    "    def __init__(self, headers, show_rel_ts = True, show_abs_ts = True):\n",
    "        self.headers = headers\n",
    "        self.show_rel_ts = show_rel_ts\n",
    "        self.show_abs_ts = show_abs_ts\n",
    "        if self.show_rel_ts:\n",
    "            self.headers.append(\"Rel.time[s]\")\n",
    "        if self.show_abs_ts:\n",
    "            self.headers.append(\"Abs.time[s]\")\n",
    "        self.data = []\n",
    "        self.last_ts = self.base_ts = datetime.datetime.now()\n",
    "        \n",
    "    def display(self, row):\n",
    "        loc_row = row.copy()\n",
    "        now_ts = datetime.datetime.now()\n",
    "        dur_rel = (now_ts - self.last_ts).total_seconds()\n",
    "        dur_abs = (now_ts - self.base_ts).total_seconds()\n",
    "        self.last_ts = now_ts\n",
    "        if self.show_rel_ts:\n",
    "            loc_row.append(dur_rel)\n",
    "        if self.show_abs_ts:\n",
    "            loc_row.append(dur_abs)\n",
    "        self.data.append(loc_row)\n",
    "        display.clear_output(wait=True)\n",
    "        display.display(display.HTML(tabulate.tabulate(self.data, tablefmt='html',headers=self.headers)))\n",
    "    \n",
    "    def clear(self):\n",
    "        self.data = []\n",
    "        \n",
    "    def done(self):\n",
    "        display.clear_output(wait=True)\n",
    "        html = tabulate.tabulate(self.data, tablefmt='html',headers=self.headers)\n",
    "        html += \"<h2>Done!</h2>\"\n",
    "        display.display(display.HTML(html))"
   ]
  },
  {
   "cell_type": "code",
   "execution_count": 4,
   "metadata": {},
   "outputs": [
    {
     "data": {
      "text/html": [
       "<table>\n",
       "<thead>\n",
       "<tr><th>Planet  </th><th style=\"text-align: right;\">  R (km)</th><th style=\"text-align: right;\">  mass (x 10^29 kg)</th><th style=\"text-align: right;\">  Rel.time[s]</th><th style=\"text-align: right;\">  Abs.time[s]</th></tr>\n",
       "</thead>\n",
       "<tbody>\n",
       "<tr><td>Sun     </td><td style=\"text-align: right;\">  696000</td><td style=\"text-align: right;\">         1.9891e+09</td><td style=\"text-align: right;\">      0      </td><td style=\"text-align: right;\">      0      </td></tr>\n",
       "<tr><td>Earth   </td><td style=\"text-align: right;\">    6371</td><td style=\"text-align: right;\">      5973.6       </td><td style=\"text-align: right;\">      3.03106</td><td style=\"text-align: right;\">      3.03106</td></tr>\n",
       "<tr><td>Moon    </td><td style=\"text-align: right;\">    1737</td><td style=\"text-align: right;\">        73.5       </td><td style=\"text-align: right;\">      3.00799</td><td style=\"text-align: right;\">      6.03904</td></tr>\n",
       "<tr><td>Mars    </td><td style=\"text-align: right;\">    3390</td><td style=\"text-align: right;\">       641.85      </td><td style=\"text-align: right;\">      3.01312</td><td style=\"text-align: right;\">      9.05216</td></tr>\n",
       "</tbody>\n",
       "</table><h2>Done!</h2>"
      ],
      "text/plain": [
       "<IPython.core.display.HTML object>"
      ]
     },
     "metadata": {},
     "output_type": "display_data"
    }
   ],
   "source": [
    "import time\n",
    "table = [[\"Sun\",696000,1989100000],\n",
    "         [\"Earth\",6371,5973.6],\n",
    "         [\"Moon\",1737,73.5],\n",
    "         [\"Mars\",3390,641.85]]\n",
    "ota = []\n",
    "out = TabOut(headers=[\"Planet\",\"R (km)\", \"mass (x 10^29 kg)\"])\n",
    "for no in range(0,len(table)):\n",
    "    out.display(table[no])\n",
    "    time.sleep(3)\n",
    "out.done()"
   ]
  }
 ],
 "metadata": {
  "kernelspec": {
   "display_name": "Python 3",
   "language": "python",
   "name": "python3"
  },
  "language_info": {
   "codemirror_mode": {
    "name": "ipython",
    "version": 3
   },
   "file_extension": ".py",
   "mimetype": "text/x-python",
   "name": "python",
   "nbconvert_exporter": "python",
   "pygments_lexer": "ipython3",
   "version": "3.8.5"
  }
 },
 "nbformat": 4,
 "nbformat_minor": 4
}
